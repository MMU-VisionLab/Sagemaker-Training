{
 "cells": [
  {
   "cell_type": "code",
   "execution_count": 1,
   "metadata": {},
   "outputs": [],
   "source": [
    "import numpy as np\n",
    "import tensorflow as tf\n",
    "import matplotlib.pyplot as plt\n",
    "import h5py\n",
    "from tqdm import tqdm"
   ]
  },
  {
   "cell_type": "markdown",
   "metadata": {},
   "source": [
    "**Load images into numpy array**"
   ]
  },
  {
   "cell_type": "code",
   "execution_count": 2,
   "metadata": {},
   "outputs": [],
   "source": [
    "def readImages_hdf5(filename):\n",
    "    '''Reads hdf5 file.\n",
    "       Parameter\n",
    "       ---------\n",
    "       filename : the name of the hdf5 file\n",
    "    '''\n",
    "    file = h5py.File(filename + '.h5', \"r+\") #open the hdf5 file.\n",
    "    \n",
    "    hdf5_images = np.array(file[\"/images\"]).astype(\"uint8\") #read the images as np array\n",
    "    hdf5_labels = np.array(file[\"/meta\"]).astype(\"uint8\") #read the images as np array\n",
    "    \n",
    "    return hdf5_images, hdf5_labels"
   ]
  },
  {
   "cell_type": "code",
   "execution_count": 3,
   "metadata": {},
   "outputs": [],
   "source": [
    "images,labels = readImages_hdf5('mnist')\n",
    "images = images.astype('float32')\n",
    "labels = labels.astype('int32')"
   ]
  },
  {
   "cell_type": "code",
   "execution_count": 4,
   "metadata": {},
   "outputs": [
    {
     "data": {
      "image/png": "[encoded data removed]",
      "text/plain": [
       "<Figure size 432x288 with 10 Axes>"
      ]
     },
     "metadata": {
      "needs_background": "light"
     },
     "output_type": "display_data"
    }
   ],
   "source": [
    "for sample in range(10):\n",
    "    plt.subplot(2,5, sample+1)\n",
    "    plt.imshow(images[sample], cmap='gray')\n",
    "    plt.title(\"Label :\" + str(labels[sample]))\n",
    "    plt.axis('off')\n",
    "\n",
    "plt.show()"
   ]
  },
  {
   "cell_type": "markdown",
   "metadata": {},
   "source": [
    "**Helper functions to convert data to features of specific type**"
   ]
  },
  {
   "cell_type": "code",
   "execution_count": 5,
   "metadata": {},
   "outputs": [],
   "source": [
    "def _int64_feature(value):\n",
    "    #pass the tf.train.Int64List into tf.train.Feature as the data type. The given value must be in list format.\n",
    "    return tf.train.Feature(int64_list=tf.train.Int64List(value=[value]))\n",
    "\n",
    "def _bytes_feature(value):\n",
    "    #pass the tf.train.BytesList into tf.train.Feature as the data type. The given value must be in list format.\n",
    "    return tf.train.Feature(bytes_list=tf.train.BytesList(value=[value]))\n",
    "\n",
    "def _float_feature(value):\n",
    "    #pass the tf.train.Floatlist into tf.train.Feature as the data type. The given value must be in list format.\n",
    "    return tf.train.Feature(float_list=tf.train.FloatList(value=[value]))"
   ]
  },
  {
   "cell_type": "code",
   "execution_count": 6,
   "metadata": {},
   "outputs": [
    {
     "data": {
      "text/plain": [
       "(28, 28)"
      ]
     },
     "execution_count": 6,
     "metadata": {},
     "output_type": "execute_result"
    }
   ],
   "source": [
    "images[0].shape"
   ]
  },
  {
   "cell_type": "markdown",
   "metadata": {},
   "source": [
    "**Write into a TFRecords file**"
   ]
  },
  {
   "cell_type": "code",
   "execution_count": 7,
   "metadata": {},
   "outputs": [
    {
     "name": "stderr",
     "output_type": "stream",
     "text": [
      "100%|██████████| 60000/60000 [00:02<00:00, 23312.04it/s]\n"
     ]
    },
    {
     "name": "stdout",
     "output_type": "stream",
     "text": [
      "Write completed !\n"
     ]
    }
   ],
   "source": [
    "filename = 'mnist.tfrecords'\n",
    "\n",
    "writer = tf.python_io.TFRecordWriter(filename)\n",
    "\n",
    "for idx in tqdm(range(images.shape[0])):\n",
    "    \n",
    "    im  = images[idx]\n",
    "    lbl = labels[idx]\n",
    "    \n",
    "    feature = {\n",
    "        'train/image': _bytes_feature(tf.compat.as_bytes(im.tostring())),\n",
    "        'train/label': _int64_feature(lbl)\n",
    "    }\n",
    "    \n",
    "    example = tf.train.Example(features=tf.train.Features(feature=feature))\n",
    "    \n",
    "    writer.write(example.SerializeToString())\n",
    "\n",
    "print(\"Write completed !\")\n",
    "writer.close()"
   ]
  },
  {
   "cell_type": "markdown",
   "metadata": {},
   "source": [
    "**Read from TFRecords file**"
   ]
  },
  {
   "cell_type": "code",
   "execution_count": 8,
   "metadata": {},
   "outputs": [],
   "source": [
    "sess = tf.InteractiveSession()\n",
    "\n",
    "feature = {\n",
    "    'train/image': tf.FixedLenFeature([], tf.string),\n",
    "    'train/label': tf.FixedLenFeature([], tf.int64)\n",
    "}\n",
    "\n",
    "filename_queue = tf.train.string_input_producer([filename])\n",
    "\n",
    "reader = tf.TFRecordReader()\n",
    "_, serialized_example = reader.read(filename_queue)\n",
    "\n",
    "features = tf.parse_single_example(serialized_example, features=feature)\n",
    "\n",
    "image = tf.decode_raw(features['train/image'], tf.float32)\n",
    "label = tf.cast(features['train/label'], tf.int32)\n",
    "\n",
    "image = tf.reshape(image, [28,28])\n",
    "\n",
    "\n",
    "images, labels = tf.train.shuffle_batch([image, label], batch_size=1, capacity=200, num_threads=1, min_after_dequeue=10)"
   ]
  },
  {
   "cell_type": "code",
   "execution_count": 9,
   "metadata": {},
   "outputs": [],
   "source": [
    "#local variables have to be set for the queue\n",
    "init_op = tf.group(tf.global_variables_initializer(), tf.local_variables_initializer())\n",
    "sess.run(init_op)\n",
    "\n",
    "#to run the FIFO queue\n",
    "coord = tf.train.Coordinator()\n",
    "threads = tf.train.start_queue_runners(coord=coord)"
   ]
  },
  {
   "cell_type": "code",
   "execution_count": null,
   "metadata": {},
   "outputs": [],
   "source": [
    "for idx in tqdm(range(10)):\n",
    "    \n",
    "    img,lbl = sess.run([images,labels])\n",
    "    img = img.astype(np.uint8)\n",
    "    \n",
    "    plt.subplot(2,5, idx+1)\n",
    "    plt.imshow(img[0])\n",
    "    plt.title(lbl[idx])\n",
    "    plt.axis('off')\n",
    "    "
   ]
  }
 ],
 "metadata": {
  "kernelspec": {
   "display_name": "nasa",
   "language": "python",
   "name": "nasa"
  },
  "language_info": {
   "codemirror_mode": {
    "name": "ipython",
    "version": 3
   },
   "file_extension": ".py",
   "mimetype": "text/x-python",
   "name": "python",
   "nbconvert_exporter": "python",
   "pygments_lexer": "ipython3",
   "version": "3.5.2"
  }
 },
 "nbformat": 4,
 "nbformat_minor": 2
}
